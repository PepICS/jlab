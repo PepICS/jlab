{
 "cells": [
  {
   "cell_type": "code",
   "execution_count": 466,
   "id": "31023029-0703-43bb-89ef-6c8084a55e5c",
   "metadata": {},
   "outputs": [],
   "source": [
    "import pandas as pd\n",
    "import numpy as np\n",
    "from datetime import datetime, timedelta, date\n",
    "pd.options.display.max_rows = 400\n",
    "pd.options.display.max_columns = 100\n",
    "import warnings\n",
    "warnings.filterwarnings('ignore')"
   ]
  },
  {
   "cell_type": "markdown",
   "id": "8a72c1c7-ee58-4e69-b4e7-206e41ca9604",
   "metadata": {},
   "source": [
    "### ETL eCAP"
   ]
  },
  {
   "cell_type": "code",
   "execution_count": 244,
   "id": "3efb7dcf-861b-4200-a6f1-e0de08e957a1",
   "metadata": {},
   "outputs": [],
   "source": [
    "pats = pd.read_csv('patients.csv')\n",
    "# ups = pd.read_csv('ups.csv')\n",
    "# uabs = pd.read_csv('uabs.csv')\n",
    "# uis = pd.read_csv('uis.csv')\n",
    "# pccmaca = pd.read_csv('pccmaca.csv')"
   ]
  },
  {
   "cell_type": "code",
   "execution_count": 245,
   "id": "2afddda6-1553-4385-b7c3-5ed627da7b43",
   "metadata": {},
   "outputs": [],
   "source": [
    "# pats2 = pd.merge(pats, ups[['UP','EAP']], on='UP', how='left')\n",
    "# pats3 = pd.merge(pats2, uabs[['UAB_SK','METGE']], on='UAB_SK', how='left')\n",
    "# pats4 = pd.merge(pats3, uis[['UI_SK','INFERMERA']], on='UI_SK', how='left')\n",
    "# pats5 = pd.merge(pats4, pccmaca[['CIP','DESC_PACIENT']], on='CIP', how='left')\n",
    "# pats5.shape[0]/pats.shape[0]"
   ]
  },
  {
   "cell_type": "markdown",
   "id": "13231fbe-8ca4-4e52-a38f-3aad45a7008e",
   "metadata": {},
   "source": [
    "### ETL BO"
   ]
  },
  {
   "cell_type": "code",
   "execution_count": 478,
   "id": "6ed3a44a-3e51-4fda-aa9d-548dadc26970",
   "metadata": {},
   "outputs": [],
   "source": [
    "def get_tam_calendar():\n",
    "\n",
    "    d1 = datetime.now().date()\n",
    "    d2 = d1.replace(day=1)\n",
    "    d_last = d2 - timedelta(days=1)\n",
    "    d3 = d_last - pd.DateOffset(years=1)\n",
    "    d_first = d3 + timedelta(days=1)\n",
    "\n",
    "    calendar_array = pd.date_range(start=d_first, end=d_last, freq='D')\n",
    "    calendar_df = pd.DataFrame(calendar_array, columns=['DATA'])\n",
    "\n",
    "    return calendar_df\n",
    "    \n",
    "def add_cips(df, df2):\n",
    "\n",
    "    df_cips = df[df['CIP'].notnull()]\n",
    "    df_nhcs = pd.merge(df[df['CIP'].isnull()].drop('CIP', axis=1),\n",
    "                       df2[['CIP','NHC']],\n",
    "                       on='NHC',\n",
    "                       how='left')\n",
    "    df3 = pd.concat([df_cips, df_nhcs]).reset_index(drop=True)\n",
    "    df3['CIP_CDT'] = np.where(df3['CIP'].isin(tuple(set(df2['CIP']))), 1, 0)\n",
    "\n",
    "    return df3\n",
    "    \n",
    "def get_urg(fname, df_ecap):\n",
    "    \n",
    "    df = pd.read_csv(fname).rename({'CIP (13d)':'CIP',\n",
    "                                    'Pacient (NHC)':'NHC',\n",
    "                                    'Episodi':'URG_EPISODI',\n",
    "                                    'Edat':'URG_EDAT',\n",
    "                                    'Procedencia desc':'URG_PROCEDENCIA',\n",
    "                                    'Centre origen desc':'URG_CENTRE_PROCEDENCIA',\n",
    "                                    'Forma arribar pacient desc':'URG_MEDI_PROCEDENCIA',\n",
    "                                    'Data hora entrada':'URG_DH_ENTRADA',\n",
    "                                    'Data hora assistencia':'URG_DH_ASSISTENCIA',\n",
    "                                    'Motiu urgència codi':'URG_MOTIU',\n",
    "                                    'Triatge desc (Darrer)':'URG_TRIATGE',\n",
    "                                    'Servei alta desc':'URG_SERVEI',\n",
    "                                    'Diagnòstic codi':'URG_DIAG_CODI',\n",
    "                                    'Diagnòstic descripció':'URG_DIAG',\n",
    "                                    'És diagnòstic principal de servei mèdic':'URG_DIAG_PPAL',\n",
    "                                    'Data hora sortida':'URG_DH_SORTIDA',\n",
    "                                    'Classe fi episodi desc':'URG_DESTI',\n",
    "                                    'Centre destí desc':'URG_CENTRE_DESTI'}, axis=1)\n",
    "\n",
    "    df2 = df.sort_values(['URG_EPISODI',\n",
    "                          'URG_DIAG_PPAL']).drop_duplicates('URG_EPISODI', keep='last').reset_index(drop=True) \n",
    "\n",
    "    df2['URG_MOTIU'] = np.where(df2['URG_MOTIU']=='01','Malaltia comú',\n",
    "                        np.where(df2['URG_MOTIU']=='02','Accident',\n",
    "                        np.where(df2['URG_MOTIU']=='03','Agressió/Autolisi',\n",
    "                        np.where(df2['URG_MOTIU']=='04','Part','Altres'))))\n",
    "\n",
    "    df2['URG_D_ENTRADA'] = pd.to_datetime(df2['URG_DH_ENTRADA']).dt.date\n",
    "    df2['URG_H_ENTRADA'] = pd.to_datetime(df2['URG_DH_ENTRADA']).dt.hour\n",
    "    df2['URG_D_SORTIDA'] = pd.to_datetime(df2['URG_DH_SORTIDA']).dt.date\n",
    "    df2['URG_H_SORTIDA'] = pd.to_datetime(df2['URG_DH_SORTIDA']).dt.hour\n",
    "\n",
    "    df3 = add_cips(df2, df_ecap)\n",
    "\n",
    "    del df, df2, df_ecap\n",
    "\n",
    "    return df3\n",
    "\n",
    "def get_ssf(fname, df_ecap):\n",
    "    \n",
    "    df = pd.read_csv(fname).rename({'CIP (13d)':'CIP',\n",
    "                                    'Pacient (NHC)':'NHC',\n",
    "                                    'Episodi':'SSF_EPISODI',\n",
    "                                    'Edat (number)':'SSF_EDAT',\n",
    "                                    'Tipus episodi desc':'SSF_EPISODI_TIPUS',\n",
    "                                    'Classe admissió desc':'SSF_ADMISSIO_TIPUS',\n",
    "                                    'Origen admisió desc':'SSF_PROCEDENCIA',\n",
    "                                    'Centre origen desc':'SSF_CENTRE_PROCEDENCIA',\n",
    "                                    'Servei admissió desc':'SSF_ADMISSIO_SERVEI',\n",
    "                                    'UT admissió dec':'SSF_ADMISSIO_UT',\n",
    "                                    'Data ingres':'SSF_DH_INGRES',\n",
    "                                    'Data hora alta':'SSF_DH_ALTA',\n",
    "                                    \"Estada de l'episodi (dies)\":'SSF_D_ESTADA',\n",
    "                                    'GRD pes':'SSF_GRD_PES',\n",
    "                                    'Diagnòstic principal cataleg':'SSF_DIAG_CAT',\n",
    "                                    'Diagnòstic principal codi':'SSF_DIAG_PPAL_CODI',\n",
    "                                    'Diagnòstic principal desc':'SSF_DIAG_PPAL',\n",
    "                                    'Servei alta desc':'SSF_ALTA_SERVEI',\n",
    "                                    'UT alta desc':'SSF_ALTA_UT',\n",
    "                                    'Metge alta desc':'SSF_ALTA_METGE',\n",
    "                                    'Classe alta desc':'SSF_ALTA_DESTI',\n",
    "                                    'Centre destí alta desc':'SSF_ALTA_CENTRE_DESTI'},\n",
    "                                    axis=1).drop_duplicates(keep='last').reset_index(drop=True)\n",
    "\n",
    "    df = df[df['SSF_EDAT'].notnull()].reset_index(drop=True)\n",
    "\n",
    "    df['SSF_EDAT'] = np.where(df['SSF_EDAT']=='0', 0,\n",
    "                              df['SSF_EDAT'].str.split(',', expand=True)[0].astype(int))\n",
    "\n",
    "    df['SSF_D_INGRES'] = pd.to_datetime(df['SSF_DH_INGRES']).dt.date\n",
    "    df['SSF_H_INGRES'] = pd.to_datetime(df['SSF_DH_INGRES']).dt.hour\n",
    "    df['SSF_D_ALTA'] = pd.to_datetime(df['SSF_DH_ALTA']).dt.date\n",
    "    df['SSF_H_ALTA'] = pd.to_datetime(df['SSF_DH_ALTA']).dt.hour\n",
    "\n",
    "    df3 = add_cips(df, df_ecap)\n",
    "\n",
    "    del df, df_ecap\n",
    "\n",
    "    return df3\n",
    "\n",
    "def get_jx(fname, df_ecap):\n",
    "    \n",
    "    df = pd.read_csv(fname).rename({'CIP (13d)':'CIP',\n",
    "                                    'Pacient (NHC)':'NHC',\n",
    "                                    'Episodi':'JX_EPISODI',\n",
    "                                    'Edat (number)':'JX_EDAT',\n",
    "                                    'Tipus episodi desc':'JX_EPISODI_TIPUS',\n",
    "                                    'Classe admissió desc':'JX_ADMISSIO_TIPUS',\n",
    "                                    'Origen admisió desc':'JX_PROCEDENCIA',\n",
    "                                    'Centre origen desc':'JX_CENTRE_PROCEDENCIA',\n",
    "                                    'Servei admissió desc':'JX_ADMISSIO_SERVEI',\n",
    "                                    'UT admissió dec':'JX_ADMISSIO_UT',\n",
    "                                    'Data ingres':'JX_DH_INGRES',\n",
    "                                    'Data hora alta':'JX_DH_ALTA',\n",
    "                                    \"Estada de l'episodi (dies)\":'JX_D_ESTADA',\n",
    "                                    'GRD pes':'JX_GRD_PES',\n",
    "                                    'Diagnòstic principal cataleg':'JX_DIAG_CAT',\n",
    "                                    'Diagnòstic principal codi':'JX_DIAG_PPAL_CODI',\n",
    "                                    'Diagnòstic principal desc':'JX_DIAG_PPAL',\n",
    "                                    'Servei alta desc':'JX_ALTA_SERVEI',\n",
    "                                    'UT alta desc':'JX_ALTA_UT',\n",
    "                                    'Metge alta desc':'JX_ALTA_METGE',\n",
    "                                    'Classe alta desc':'JX_ALTA_DESTI',\n",
    "                                    'Centre destí alta desc':'JX_ALTA_CENTRE_DESTI'},\n",
    "                                    axis=1).drop_duplicates(keep='last').reset_index(drop=True)\n",
    "\n",
    "    df = df[df['JX_EDAT'].notnull()].reset_index(drop=True)\n",
    "\n",
    "    df['JX_EDAT'] = np.where(df['JX_EDAT']=='0', 0,\n",
    "                             df['JX_EDAT'].str.split(',', expand=True)[0].astype(int))\n",
    "\n",
    "    df['JX_D_INGRES'] = pd.to_datetime(df['JX_DH_INGRES']).dt.date\n",
    "    df['JX_H_INGRES'] = pd.to_datetime(df['JX_DH_INGRES']).dt.hour\n",
    "    df['JX_D_ALTA'] = pd.to_datetime(df['JX_DH_ALTA']).dt.date\n",
    "    df['JX_H_ALTA'] = pd.to_datetime(df['JX_DH_ALTA']).dt.hour\n",
    "\n",
    "    df3 = add_cips(df, df_ecap)\n",
    "\n",
    "    del df, df_ecap\n",
    "\n",
    "    return df3\n",
    "\n",
    "def get_pxs(fname, df2):\n",
    "\n",
    "    df = pd.read_csv(fname).rename({'Episodi':'JX_EPISODI',\n",
    "                                    'Data Inici Moviment':'PXS_DH_IM',\n",
    "                                    'Data Alta':'PXS_DH_FM',\n",
    "                                    'Servei Hospitalitzacio Descripció':'PXS_SERVEI',\n",
    "                                    'UP del servei gestor desc':'PXS_SERVEI_UP',\n",
    "                                    'Unitat Tractament Descripcio':'PXS_UT',\n",
    "                                    'UP de la UT desc':'PXS_UT_UP'},\n",
    "                                    axis=1).drop_duplicates(keep='last').reset_index(drop=True)\n",
    "\n",
    "    df3 = df[(df['JX_EPISODI'].isin(tuple(set(df2['JX_EPISODI'])))) & (\n",
    "        ~df['PXS_DH_FM'].str.contains('9999'))].sort_values(['JX_EPISODI','PXS_DH_FM']).reset_index(drop=True)\n",
    "    df3['PXS_MOV_NUM'] = df3.groupby('JX_EPISODI').cumcount() + 1\n",
    "    df3['PXS_PK'] = df3['JX_EPISODI'].astype(str) + '_' + df3['PXS_MOV_NUM'].astype(str).str.pad(\n",
    "        width=2, side='left', fillchar='0')\n",
    "\n",
    "    df3['PXS_D_IM'] = pd.to_datetime(df3['PXS_DH_IM']).dt.date\n",
    "    df3['PXS_H_IM'] = pd.to_datetime(df3['PXS_DH_IM']).dt.hour\n",
    "    df3['PXS_D_FM'] = pd.to_datetime(df3['PXS_DH_FM']).dt.date\n",
    "    df3['PXS_H_FM'] = pd.to_datetime(df3['PXS_DH_FM']).dt.hour\n",
    "\n",
    "    del df, df2\n",
    "\n",
    "    return df3\n"
   ]
  },
  {
   "cell_type": "code",
   "execution_count": 479,
   "id": "f2d9f0f7-086d-4bf3-a0a2-da967decc6e2",
   "metadata": {},
   "outputs": [
    {
     "name": "stdout",
     "output_type": "stream",
     "text": [
      "CPU times: user 23 s, sys: 177 ms, total: 23.2 s\n",
      "Wall time: 23.9 s\n"
     ]
    }
   ],
   "source": [
    "%%time\n",
    "\n",
    "urg = get_urg('bo_urg.csv', pats)\n",
    "ssf = get_ssf('bo_ssf.csv', pats)\n",
    "jx = get_jx('bo_jx.csv', pats)\n",
    "pxs = get_pxs('bo_pxs.csv', jx)\n",
    "calendar = get_tam_calendar()"
   ]
  },
  {
   "cell_type": "code",
   "execution_count": 458,
   "id": "a7cd4980-c9a1-4dc8-b467-35b5ebc4f09b",
   "metadata": {},
   "outputs": [
    {
     "name": "stdout",
     "output_type": "stream",
     "text": [
      "1.0\n",
      "1.0\n",
      "1.0\n",
      "1.0\n"
     ]
    }
   ],
   "source": [
    "print(urg['URG_EPISODI'].nunique()/urg.shape[0])\n",
    "print(ssf['SSF_EPISODI'].nunique()/ssf.shape[0])\n",
    "print(jx['JX_EPISODI'].nunique()/jx.shape[0])\n",
    "print(pxs['PXS_PK'].nunique()/pxs.shape[0])"
   ]
  },
  {
   "cell_type": "code",
   "execution_count": 480,
   "id": "8d7aedfc-00b9-4b4f-bed9-15f7b7005b0e",
   "metadata": {},
   "outputs": [
    {
     "name": "stdout",
     "output_type": "stream",
     "text": [
      "CPU times: user 2.5 ms, sys: 10 ms, total: 12.5 ms\n",
      "Wall time: 13.8 ms\n"
     ]
    }
   ],
   "source": [
    "%%time\n",
    "\n",
    "# urg.to_csv('urg.csv', index=False)\n",
    "# ssf.to_csv('ssf.csv', index=False)\n",
    "# jx.to_csv('jx.csv', index=False)\n",
    "# pxs.to_csv('pxs.csv', index=False)\n",
    "calendar.to_csv('tam.csv', index=False)"
   ]
  },
  {
   "cell_type": "code",
   "execution_count": 471,
   "id": "7b9ef5bb-c581-4756-a392-0134002c919f",
   "metadata": {},
   "outputs": [
    {
     "data": {
      "text/plain": [
       "Timestamp('2023-10-01 00:00:00')"
      ]
     },
     "execution_count": 471,
     "metadata": {},
     "output_type": "execute_result"
    }
   ],
   "source": [
    "calendar['DATA'].min()"
   ]
  },
  {
   "cell_type": "code",
   "execution_count": 477,
   "id": "53fb3dbb-622b-4312-b8fc-71908cee6efa",
   "metadata": {},
   "outputs": [
    {
     "data": {
      "text/plain": [
       "DATA       datetime64[ns]\n",
       "PERIODE            object\n",
       "dtype: object"
      ]
     },
     "execution_count": 477,
     "metadata": {},
     "output_type": "execute_result"
    }
   ],
   "source": [
    "calendar.dtypes"
   ]
  },
  {
   "cell_type": "code",
   "execution_count": 481,
   "id": "fa609a42-2ff3-4830-8014-d82226b66190",
   "metadata": {},
   "outputs": [
    {
     "data": {
      "text/html": [
       "<div>\n",
       "<style scoped>\n",
       "    .dataframe tbody tr th:only-of-type {\n",
       "        vertical-align: middle;\n",
       "    }\n",
       "\n",
       "    .dataframe tbody tr th {\n",
       "        vertical-align: top;\n",
       "    }\n",
       "\n",
       "    .dataframe thead th {\n",
       "        text-align: right;\n",
       "    }\n",
       "</style>\n",
       "<table border=\"1\" class=\"dataframe\">\n",
       "  <thead>\n",
       "    <tr style=\"text-align: right;\">\n",
       "      <th></th>\n",
       "      <th>DATA</th>\n",
       "    </tr>\n",
       "  </thead>\n",
       "  <tbody>\n",
       "    <tr>\n",
       "      <th>0</th>\n",
       "      <td>2023-10-01</td>\n",
       "    </tr>\n",
       "  </tbody>\n",
       "</table>\n",
       "</div>"
      ],
      "text/plain": [
       "        DATA\n",
       "0 2023-10-01"
      ]
     },
     "execution_count": 481,
     "metadata": {},
     "output_type": "execute_result"
    }
   ],
   "source": [
    "calendar.head(1)"
   ]
  },
  {
   "cell_type": "code",
   "execution_count": 469,
   "id": "722375ad-7de7-483f-a6d9-84b9f2436e20",
   "metadata": {},
   "outputs": [
    {
     "data": {
      "text/plain": [
       "CIP_CDT\n",
       "1    18967\n",
       "0     3222\n",
       "Name: count, dtype: int64"
      ]
     },
     "execution_count": 469,
     "metadata": {},
     "output_type": "execute_result"
    }
   ],
   "source": [
    "jx['CIP_CDT'].value_counts()"
   ]
  },
  {
   "cell_type": "markdown",
   "id": "dea61b32-437c-4856-9614-b2e9c019c467",
   "metadata": {},
   "source": [
    "### Mirant episodis falsos ssf"
   ]
  },
  {
   "cell_type": "code",
   "execution_count": 358,
   "id": "bad0132e-7aa7-48bc-a5b2-c75c4b0307c7",
   "metadata": {},
   "outputs": [],
   "source": [
    "# ssf2 = ssf.sort_values(['NHC','SSF_DH_INGRES']).reset_index(drop=True)\n",
    "# ssf2['HDIFF'] = np.where(ssf2['NHC']==ssf2['NHC'].shift(1),\n",
    "#                          (pd.to_datetime(ssf2['SSF_DH_INGRES'])-pd.to_datetime(\n",
    "#                              ssf2['SSF_DH_ALTA'].shift(1))).dt.total_seconds()/3600,\n",
    "#                          np.nan)"
   ]
  },
  {
   "cell_type": "code",
   "execution_count": 359,
   "id": "f8478955-467f-4fff-b4c2-491369d8f3ef",
   "metadata": {},
   "outputs": [],
   "source": [
    "# ssf2[ssf2['HDIFF']<1]"
   ]
  },
  {
   "cell_type": "code",
   "execution_count": 447,
   "id": "fa6a5e0a-68a5-49cb-8c8f-e66fc694e092",
   "metadata": {},
   "outputs": [],
   "source": [
    "pxs['PXS_MOV_NUM_2'] = pxs.groupby(['JX_EPISODI','PXS_UT']).cumcount() + 1"
   ]
  },
  {
   "cell_type": "code",
   "execution_count": 451,
   "id": "1a43b2fc-af7c-4ee3-bda1-3fcc595abeec",
   "metadata": {},
   "outputs": [
    {
     "data": {
      "text/plain": [
       "PXS_SERVEI\n",
       "NEUROCIRURGIA                    9\n",
       "ANESTESIOLOGIA I REANIMACIO      3\n",
       "MEDICINA FISICA REHABILITACIO    3\n",
       "Name: count, dtype: int64"
      ]
     },
     "execution_count": 451,
     "metadata": {},
     "output_type": "execute_result"
    }
   ],
   "source": [
    "pxs[pxs['JX_EPISODI']==18695831]['PXS_SERVEI'].value_counts()"
   ]
  },
  {
   "cell_type": "code",
   "execution_count": null,
   "id": "42854e9f-0357-4646-bfa7-4f4284a5ddb1",
   "metadata": {},
   "outputs": [],
   "source": []
  }
 ],
 "metadata": {
  "kernelspec": {
   "display_name": "Python 3 (ipykernel)",
   "language": "python",
   "name": "python3"
  },
  "language_info": {
   "codemirror_mode": {
    "name": "ipython",
    "version": 3
   },
   "file_extension": ".py",
   "mimetype": "text/x-python",
   "name": "python",
   "nbconvert_exporter": "python",
   "pygments_lexer": "ipython3",
   "version": "3.11.6"
  }
 },
 "nbformat": 4,
 "nbformat_minor": 5
}
