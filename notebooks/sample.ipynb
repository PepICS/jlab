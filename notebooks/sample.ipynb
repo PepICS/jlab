{
 "cells": [
  {
   "cell_type": "code",
   "execution_count": 1,
   "id": "3d0af6a4-ddac-46e3-b4b3-48a151de5b68",
   "metadata": {},
   "outputs": [],
   "source": [
    "import pandas as pd\n",
    "import db_connections"
   ]
  },
  {
   "cell_type": "code",
   "execution_count": 2,
   "id": "b79eea03-3960-4847-9be9-2ec8924c33af",
   "metadata": {},
   "outputs": [
    {
     "name": "stdout",
     "output_type": "stream",
     "text": [
      "CPU times: user 135 ms, sys: 42.7 ms, total: 178 ms\n",
      "Wall time: 16.5 s\n"
     ]
    }
   ],
   "source": [
    "%%time\n",
    "\n",
    "q = f\"\"\"SELECT TOP 5 PatientID, PatientSex FROM PV_PatientList\"\"\"\n",
    "\n",
    "df = db_connections.ccc2pd(q, 'jx', 'uci', 'dw')\n",
    "df2 = db_connections.ccc2pd(q, 'jx', 'uci', 'pr')\n",
    "df3 = db_connections.ccc2pd(q, 'jx', 'uci', 'both')\n",
    "\n",
    "df4 = db_connections.ccc2pd(q, 'jx', 'ucip', 'both')\n",
    "df5 = db_connections.ccc2pd(q, 'jx', 'rea', 'both')\n",
    "df6 = db_connections.ccc2pd(q, 'vh', 'uci', 'both')\n",
    "df7 = db_connections.ccc2pd(q, 'vh', 'ucip', 'both')\n",
    "df8 = db_connections.ccc2pd(q, 'vh', 'ucin', 'both')\n",
    "df9 = db_connections.ccc2pd(q, 'vc', 'uci', 'both')\n",
    "df10 = db_connections.ccc2pd(q, 'ar', 'uci', 'both')\n",
    "df11 = db_connections.ccc2pd(q, 'gt', 'uci', 'both')"
   ]
  },
  {
   "cell_type": "code",
   "execution_count": 14,
   "id": "110081d8-4bcf-482c-af04-aaa56a69ce01",
   "metadata": {},
   "outputs": [
    {
     "name": "stdout",
     "output_type": "stream",
     "text": [
      "CPU times: user 0 ns, sys: 1 µs, total: 1 µs\n",
      "Wall time: 3.58 µs\n"
     ]
    }
   ],
   "source": [
    "%%time\n",
    "\n",
    "# dblink='@p6211_exp'\n",
    "\n",
    "# q = f\"\"\"\n",
    "# SELECT UG_USUA_CIP\n",
    "# FROM PPFTB012{dblink}\n",
    "# WHERE ROWNUM<10\n",
    "# \"\"\"\n",
    "\n",
    "# df12 = db_connections.oracle2pd('ecap', q)\n",
    "\n",
    "# q = f\"\"\"\n",
    "# SELECT *\n",
    "# FROM dwfactJX.HOSPITALITZACIO\n",
    "# WHERE ROWNUM<10\n",
    "# \"\"\"\n",
    "\n",
    "# df13 = db_connections.oracle2pd('uci', q)\n",
    "\n",
    "# q = f\"\"\"\n",
    "# SELECT *\n",
    "# FROM all_tab_columns\n",
    "# WHERE ROWNUM<10\n",
    "# \"\"\"\n",
    "\n",
    "# df14 = db_connections.oracle2pd('cronicitat', q)"
   ]
  },
  {
   "cell_type": "code",
   "execution_count": null,
   "id": "4b951012-6b0f-4db9-b5dc-344bec7b184c",
   "metadata": {},
   "outputs": [],
   "source": []
  }
 ],
 "metadata": {
  "kernelspec": {
   "display_name": "Python 3 (ipykernel)",
   "language": "python",
   "name": "python3"
  },
  "language_info": {
   "codemirror_mode": {
    "name": "ipython",
    "version": 3
   },
   "file_extension": ".py",
   "mimetype": "text/x-python",
   "name": "python",
   "nbconvert_exporter": "python",
   "pygments_lexer": "ipython3",
   "version": "3.11.6"
  }
 },
 "nbformat": 4,
 "nbformat_minor": 5
}
