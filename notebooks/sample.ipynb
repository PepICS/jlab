{
 "cells": [
  {
   "cell_type": "code",
   "execution_count": 1,
   "id": "3d0af6a4-ddac-46e3-b4b3-48a151de5b68",
   "metadata": {},
   "outputs": [],
   "source": [
    "import pandas as pd\n",
    "import db_connections"
   ]
  },
  {
   "cell_type": "code",
   "execution_count": 3,
   "id": "b79eea03-3960-4847-9be9-2ec8924c33af",
   "metadata": {},
   "outputs": [
    {
     "name": "stdout",
     "output_type": "stream",
     "text": [
      "CPU times: user 326 ms, sys: 94.6 ms, total: 421 ms\n",
      "Wall time: 22.2 s\n"
     ]
    }
   ],
   "source": [
    "%%time\n",
    "\n",
    "q = f\"\"\"SELECT TOP 5 PatientID, PatientSex FROM PV_PatientList\"\"\"\n",
    "\n",
    "df = db_connections.ccc2pd(q, 'jx', 'uci', 'dw')\n",
    "df2 = db_connections.ccc2pd(q, 'jx', 'uci', 'pr')\n",
    "df3 = db_connections.ccc2pd(q, 'jx', 'uci', 'both')\n",
    "\n",
    "df4 = db_connections.ccc2pd(q, 'jx', 'ucip', 'both')\n",
    "df5 = db_connections.ccc2pd(q, 'jx', 'rea', 'both')\n",
    "df6 = db_connections.ccc2pd(q, 'vh', 'uci', 'both')\n",
    "df7 = db_connections.ccc2pd(q, 'vh', 'ucip', 'both')\n",
    "df8 = db_connections.ccc2pd(q, 'vh', 'ucin', 'both')\n",
    "df9 = db_connections.ccc2pd(q, 'vc', 'uci', 'both')\n",
    "df10 = db_connections.ccc2pd(q, 'ar', 'uci', 'both')\n",
    "df11 = db_connections.ccc2pd(q, 'gt', 'uci', 'both')"
   ]
  },
  {
   "cell_type": "code",
   "execution_count": 4,
   "id": "110081d8-4bcf-482c-af04-aaa56a69ce01",
   "metadata": {},
   "outputs": [
    {
     "name": "stdout",
     "output_type": "stream",
     "text": [
      "CPU times: user 24.3 ms, sys: 2.52 ms, total: 26.8 ms\n",
      "Wall time: 746 ms\n"
     ]
    }
   ],
   "source": [
    "%%time\n",
    "\n",
    "dblink='@p6211_exp'\n",
    "\n",
    "q = f\"\"\"\n",
    "SELECT UG_USUA_CIP\n",
    "FROM PPFTB012{dblink}\n",
    "WHERE ROWNUM<10\n",
    "\"\"\"\n",
    "\n",
    "df = db_connections.ecap2pd(q)"
   ]
  },
  {
   "cell_type": "code",
   "execution_count": null,
   "id": "8beac3b8-910a-4ada-9cca-345247bb0de0",
   "metadata": {},
   "outputs": [],
   "source": []
  }
 ],
 "metadata": {
  "kernelspec": {
   "display_name": "Python 3 (ipykernel)",
   "language": "python",
   "name": "python3"
  },
  "language_info": {
   "codemirror_mode": {
    "name": "ipython",
    "version": 3
   },
   "file_extension": ".py",
   "mimetype": "text/x-python",
   "name": "python",
   "nbconvert_exporter": "python",
   "pygments_lexer": "ipython3",
   "version": "3.11.6"
  }
 },
 "nbformat": 4,
 "nbformat_minor": 5
}
