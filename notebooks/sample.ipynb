{
 "cells": [
  {
   "cell_type": "code",
   "execution_count": 1,
   "id": "3d0af6a4-ddac-46e3-b4b3-48a151de5b68",
   "metadata": {},
   "outputs": [],
   "source": [
    "import pandas as pd\n",
    "import db_connections"
   ]
  },
  {
   "cell_type": "code",
   "execution_count": 2,
   "id": "b79eea03-3960-4847-9be9-2ec8924c33af",
   "metadata": {},
   "outputs": [
    {
     "name": "stdout",
     "output_type": "stream",
     "text": [
      "Connection error: 1045 (28000): Access denied for user ''@'haproxy01.parcsanitari.local' (using password: YES)\n"
     ]
    }
   ],
   "source": [
    "# %%time\n",
    "\n",
    "# q = f\"\"\"SELECT TOP 5 PatientID, PatientSex FROM PV_PatientList\"\"\"\n",
    "\n",
    "# df = db_connections.ccc2pd(q, 'jx', 'uci', 'both')\n",
    "# df2 = db_connections.ccc2pd(q, 'jx', 'ucip', 'both')\n",
    "# df3 = db_connections.ccc2pd(q, 'jx', 'rea', 'both')\n",
    "\n",
    "# q = f\"\"\"\n",
    "# SELECT *\n",
    "# FROM dwfactJX.HOSPITALITZACIO\n",
    "# WHERE ROWNUM<10\n",
    "# \"\"\"\n",
    "\n",
    "# df4 = db_connections.oracle2pd('uci', q)\n",
    "\n",
    "# dblink='@p6211_exp'\n",
    "\n",
    "# q = f\"\"\"\n",
    "# SELECT UG_USUA_CIP\n",
    "# FROM PPFTB012{dblink}\n",
    "# WHERE ROWNUM<10\n",
    "# \"\"\"\n",
    "\n",
    "# df5 = db_connections.oracle2pd('ecap', q)\n",
    "\n",
    "q = '''\n",
    "  select * \n",
    "  from portalaplicacions.SOLINF_D_SOLICITUDS sdts \n",
    "  inner join portalaplicacions.SOL_D_ASSIG_TECNICS sdat \n",
    "  on sdts.SOLINF_TASCA = sdat.ASSIG_ID_REGISTRE \n",
    "  where \n",
    "      ASSIG_ID_TECNIC IN ('47826437F', '46717177Z','39931359R','46827736N')\n",
    "      AND ASSIG_DATA_FINAL IS NULL;\n",
    "'''\n",
    "\n",
    "df6 = db_connections.mariadb2pd('tasques', q)"
   ]
  },
  {
   "cell_type": "code",
   "execution_count": null,
   "id": "d26f6b3a-ee14-4d73-a343-82addd14a392",
   "metadata": {},
   "outputs": [],
   "source": []
  }
 ],
 "metadata": {
  "kernelspec": {
   "display_name": "Python 3 (ipykernel)",
   "language": "python",
   "name": "python3"
  },
  "language_info": {
   "codemirror_mode": {
    "name": "ipython",
    "version": 3
   },
   "file_extension": ".py",
   "mimetype": "text/x-python",
   "name": "python",
   "nbconvert_exporter": "python",
   "pygments_lexer": "ipython3",
   "version": "3.11.6"
  }
 },
 "nbformat": 4,
 "nbformat_minor": 5
}
