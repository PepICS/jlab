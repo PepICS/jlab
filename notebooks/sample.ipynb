{
 "cells": [
  {
   "cell_type": "code",
   "execution_count": 3,
   "id": "3d0af6a4-ddac-46e3-b4b3-48a151de5b68",
   "metadata": {},
   "outputs": [],
   "source": [
    "import pandas as pd\n",
    "import db_connections"
   ]
  },
  {
   "cell_type": "code",
   "execution_count": 11,
   "id": "b79eea03-3960-4847-9be9-2ec8924c33af",
   "metadata": {},
   "outputs": [],
   "source": [
    "# %%time\n",
    "\n",
    "# q = f\"\"\"SELECT TOP 5 PatientID, PatientSex FROM PV_PatientList\"\"\"\n",
    "\n",
    "# df = db_connections.ccc2pd(q, 'jx', 'uci', 'both')\n",
    "# df2 = db_connections.ccc2pd(q, 'jx', 'ucip', 'both')\n",
    "# df3 = db_connections.ccc2pd(q, 'jx', 'rea', 'both')\n",
    "\n",
    "# q = f\"\"\"\n",
    "# SELECT *\n",
    "# FROM dwfactJX.HOSPITALITZACIO\n",
    "# WHERE ROWNUM<10\n",
    "# \"\"\"\n",
    "\n",
    "# df4 = db_connections.oracle2pd('uci', q)\n",
    "\n",
    "# dblink='@p6211_exp'\n",
    "\n",
    "# q = f\"\"\"\n",
    "# SELECT UG_USUA_CIP\n",
    "# FROM PPFTB012{dblink}\n",
    "# WHERE ROWNUM<10\n",
    "# \"\"\"\n",
    "\n",
    "# df5 = db_connections.oracle2pd('ecap', q)\n",
    "\n",
    "# q = '''\n",
    "# SELECT \n",
    "#  \tCONVERT(ASSIG_ID_REGISTRE, CHAR) AS ASSIG_ID_REGISTRE,\n",
    "#  \tASSIG_ID_TECNIC,\n",
    "#  \tASSIG_DATA_INICI,\n",
    "#  \tASSIG_DATA_FINAL,\n",
    "#  \tASSIG_NIF,\n",
    "#  \tASSIG_MODIFICAT,\n",
    "#  \tASSIG_ID_MAIL\n",
    "# FROM \n",
    "#  \tportalaplicacions.SOL_D_ASSIG_TECNICS\n",
    "# WHERE \n",
    "#   \tASSIG_ID_TECNIC IN ('47826437F', '46717177Z','39931359R','46827736N')\n",
    "#   \tAND ASSIG_DATA_FINAL IS NULL;\n",
    "# '''\n",
    "\n",
    "# df6 = db_connections.mariadb2pd('tasques', q)\n",
    "\n",
    "# q = '''select * from diccionari limit 1'''\n",
    "\n",
    "# df7 = db_connections.mariadb2pd('llistagipss', q)"
   ]
  },
  {
   "cell_type": "code",
   "execution_count": null,
   "id": "7a8eb164-f0a3-47b6-a1ac-65ade64918da",
   "metadata": {},
   "outputs": [],
   "source": []
  }
 ],
 "metadata": {
  "kernelspec": {
   "display_name": "Python 3 (ipykernel)",
   "language": "python",
   "name": "python3"
  },
  "language_info": {
   "codemirror_mode": {
    "name": "ipython",
    "version": 3
   },
   "file_extension": ".py",
   "mimetype": "text/x-python",
   "name": "python",
   "nbconvert_exporter": "python",
   "pygments_lexer": "ipython3",
   "version": "3.11.6"
  }
 },
 "nbformat": 4,
 "nbformat_minor": 5
}
