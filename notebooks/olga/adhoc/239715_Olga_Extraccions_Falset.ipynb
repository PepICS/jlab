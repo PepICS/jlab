{
 "cells": [
  {
   "cell_type": "code",
   "execution_count": 83,
   "id": "3d0af6a4-ddac-46e3-b4b3-48a151de5b68",
   "metadata": {},
   "outputs": [],
   "source": [
    "import pandas as pd\n",
    "import numpy as np\n",
    "import db_connections\n",
    "from datetime import datetime, timedelta, date"
   ]
  },
  {
   "cell_type": "markdown",
   "id": "00aed29f-405d-43f9-a001-82f0cb53fbe3",
   "metadata": {},
   "source": [
    "Bon dia Josep, necessitem que ens feu arribar un informe de la freqüència de agendes d?extraccions en tots els consultoris de ABS Falset i el nombre de analítiques que es fan (mitjana per dia d?extracció).\r\n",
    "\r\n",
    "Es una mica urgent"
   ]
  },
  {
   "cell_type": "code",
   "execution_count": 57,
   "id": "110081d8-4bcf-482c-af04-aaa56a69ce01",
   "metadata": {},
   "outputs": [
    {
     "name": "stdout",
     "output_type": "stream",
     "text": [
      "CPU times: user 40 ms, sys: 0 ns, total: 40 ms\n",
      "Wall time: 14.6 s\n"
     ]
    }
   ],
   "source": [
    "%%time\n",
    "\n",
    "d1 = datetime.now().date()\n",
    "d2 = d1.replace(day=1)\n",
    "d_last = d2 - timedelta(days=1)\n",
    "d_first = (d2 - pd.DateOffset(years=1)).date()\n",
    "\n",
    "dblink='@p6209_prod'\n",
    "\n",
    "q = f\"\"\"\n",
    "    SELECT\n",
    "        VISI_USUARI_CIP AS CIP,\n",
    "        TO_DATE(VISI_DATA_VISITA, 'J') AS DATA_VISITA,\n",
    "        TO_CHAR(TO_DATE(VISI_HORA_VISITA, 'sssss'), 'hh24:mi') AS HORA_VISITA,\n",
    "        VISI_CENTRE_CODI_CENTRE AS CODI_CENTRE,\n",
    "        VISI_CENTRE_CLASSE_CENTRE CLASSE_CENTRE,\n",
    "        CENT_NOM_CENTRE AS CENTRE,\n",
    "        VISI_SITUACIO_VISITA AS SITUACIO_VISITA\n",
    "    FROM VISTB043{dblink} LEFT JOIN PRITB010{dblink} ON VISI_CENTRE_CODI_CENTRE = CENT_CODI_CENTRE AND VISI_CENTRE_CLASSE_CENTRE = CENT_CLASSE_CENTRE\n",
    "    WHERE VISI_UP='00042'\n",
    "    AND VISI_SERVEI_CODI_SERVEI='EXTRA'\n",
    "    AND VISI_DATA_VISITA BETWEEN {pd.to_datetime(d_first).to_julian_date().astype(int)} AND {pd.to_datetime(d1).to_julian_date().astype(int)}\n",
    "    \"\"\"\n",
    "\n",
    "df = db_connections.oracle2pd('ecap', q)"
   ]
  },
  {
   "cell_type": "code",
   "execution_count": 100,
   "id": "aee64ebc-1fba-4d92-897e-15911f9f2037",
   "metadata": {},
   "outputs": [
    {
     "name": "stdout",
     "output_type": "stream",
     "text": [
      "CPU times: user 17.8 ms, sys: 0 ns, total: 17.8 ms\n",
      "Wall time: 23.5 ms\n"
     ]
    }
   ],
   "source": [
    "%%time\n",
    "\n",
    "df['SITUACIO_VISITA'] = np.where(df['SITUACIO_VISITA']=='R', 'R', 'N')\n",
    "df2 = df.groupby(['CENTRE','DATA_VISITA','SITUACIO_VISITA'], as_index=False).agg({'CIP':'nunique'})\n",
    "df3 = df2.pivot(index=['CENTRE','DATA_VISITA'], columns='SITUACIO_VISITA', values='CIP').reset_index().fillna(0)\n",
    "df3[['N','R']] = df23[['N','R']].astype(int)\n",
    "df4 = df3.groupby(['CENTRE'], as_index=False).agg({'DATA_VISITA':'nunique','N':'sum','R':'sum'}).rename(\n",
    "        {'DATA_VISITA':'Dies agenda extraccions','N':'No presentats','R':'Realitzades'}, axis=1)\n",
    "df4['Mitjana realitzades per dia'] = round(df4['Realitzades']/df4['Dies agenda extraccions'],2)\n",
    "df4.sort_values('Mitjana realitzades per dia', ascending=False).to_excel('Extraccions_ABS_Falset_2023_10_01_2024_10_22.xlsx', index=False)"
   ]
  }
 ],
 "metadata": {
  "kernelspec": {
   "display_name": "Python 3 (ipykernel)",
   "language": "python",
   "name": "python3"
  },
  "language_info": {
   "codemirror_mode": {
    "name": "ipython",
    "version": 3
   },
   "file_extension": ".py",
   "mimetype": "text/x-python",
   "name": "python",
   "nbconvert_exporter": "python",
   "pygments_lexer": "ipython3",
   "version": "3.11.6"
  }
 },
 "nbformat": 4,
 "nbformat_minor": 5
}
